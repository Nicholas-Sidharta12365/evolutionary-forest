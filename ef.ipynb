{
 "cells": [
  {
   "cell_type": "markdown",
   "metadata": {},
   "source": [
    "# Implementation of Evolutionary Forest\n",
    "Reference: [Paper](./An_Evolutionary_Forest_for_Regression.pdf)"
   ]
  },
  {
   "cell_type": "markdown",
   "metadata": {},
   "source": [
    "### Import Libraries and Install them if not installed"
   ]
  },
  {
   "cell_type": "markdown",
   "metadata": {},
   "source": [
    "#### Install Libraries"
   ]
  },
  {
   "cell_type": "code",
   "execution_count": 1,
   "metadata": {},
   "outputs": [
    {
     "name": "stdout",
     "output_type": "stream",
     "text": [
      "Requirement already satisfied: pandas in c:\\users\\user\\appdata\\local\\programs\\python\\python310\\lib\\site-packages (1.4.2)\n",
      "Requirement already satisfied: numpy>=1.21.0 in c:\\users\\user\\appdata\\local\\programs\\python\\python310\\lib\\site-packages (from pandas) (1.22.4)\n",
      "Requirement already satisfied: pytz>=2020.1 in c:\\users\\user\\appdata\\local\\programs\\python\\python310\\lib\\site-packages (from pandas) (2022.2.1)\n",
      "Requirement already satisfied: python-dateutil>=2.8.1 in c:\\users\\user\\appdata\\local\\programs\\python\\python310\\lib\\site-packages (from pandas) (2.8.2)\n",
      "Requirement already satisfied: six>=1.5 in c:\\users\\user\\appdata\\local\\programs\\python\\python310\\lib\\site-packages (from python-dateutil>=2.8.1->pandas) (1.16.0)\n",
      "Note: you may need to restart the kernel to use updated packages.\n"
     ]
    },
    {
     "name": "stderr",
     "output_type": "stream",
     "text": [
      "WARNING: There was an error checking the latest version of pip.\n"
     ]
    },
    {
     "name": "stdout",
     "output_type": "stream",
     "text": [
      "Requirement already satisfied: numpy in c:\\users\\user\\appdata\\local\\programs\\python\\python310\\lib\\site-packages (1.22.4)\n",
      "Note: you may need to restart the kernel to use updated packages.\n"
     ]
    },
    {
     "name": "stderr",
     "output_type": "stream",
     "text": [
      "WARNING: There was an error checking the latest version of pip.\n"
     ]
    },
    {
     "name": "stdout",
     "output_type": "stream",
     "text": [
      "Note: you may need to restart the kernel to use updated packages.\n",
      "Requirement already satisfied: matplotlib in c:\\users\\user\\appdata\\local\\programs\\python\\python310\\lib\\site-packages (3.5.2)\n",
      "Requirement already satisfied: pillow>=6.2.0 in c:\\users\\user\\appdata\\local\\programs\\python\\python310\\lib\\site-packages (from matplotlib) (8.4.0)\n",
      "Requirement already satisfied: kiwisolver>=1.0.1 in c:\\users\\user\\appdata\\local\\programs\\python\\python310\\lib\\site-packages (from matplotlib) (1.4.2)\n",
      "Requirement already satisfied: packaging>=20.0 in c:\\users\\user\\appdata\\local\\programs\\python\\python310\\lib\\site-packages (from matplotlib) (21.3)\n",
      "Requirement already satisfied: numpy>=1.17 in c:\\users\\user\\appdata\\local\\programs\\python\\python310\\lib\\site-packages (from matplotlib) (1.22.4)\n",
      "Requirement already satisfied: python-dateutil>=2.7 in c:\\users\\user\\appdata\\local\\programs\\python\\python310\\lib\\site-packages (from matplotlib) (2.8.2)\n",
      "Requirement already satisfied: cycler>=0.10 in c:\\users\\user\\appdata\\local\\programs\\python\\python310\\lib\\site-packages (from matplotlib) (0.11.0)\n",
      "Requirement already satisfied: pyparsing>=2.2.1 in c:\\users\\user\\appdata\\local\\programs\\python\\python310\\lib\\site-packages (from matplotlib) (3.0.9)\n",
      "Requirement already satisfied: fonttools>=4.22.0 in c:\\users\\user\\appdata\\local\\programs\\python\\python310\\lib\\site-packages (from matplotlib) (4.33.3)\n",
      "Requirement already satisfied: six>=1.5 in c:\\users\\user\\appdata\\local\\programs\\python\\python310\\lib\\site-packages (from python-dateutil>=2.7->matplotlib) (1.16.0)\n"
     ]
    },
    {
     "name": "stderr",
     "output_type": "stream",
     "text": [
      "WARNING: There was an error checking the latest version of pip.\n"
     ]
    },
    {
     "name": "stdout",
     "output_type": "stream",
     "text": [
      "Requirement already satisfied: seaborn in c:\\users\\user\\appdata\\local\\programs\\python\\python310\\lib\\site-packages (0.11.2)Note: you may need to restart the kernel to use updated packages.\n"
     ]
    },
    {
     "name": "stderr",
     "output_type": "stream",
     "text": [
      "WARNING: There was an error checking the latest version of pip.\n"
     ]
    },
    {
     "name": "stdout",
     "output_type": "stream",
     "text": [
      "\n",
      "Requirement already satisfied: matplotlib>=2.2 in c:\\users\\user\\appdata\\local\\programs\\python\\python310\\lib\\site-packages (from seaborn) (3.5.2)\n",
      "Requirement already satisfied: pandas>=0.23 in c:\\users\\user\\appdata\\local\\programs\\python\\python310\\lib\\site-packages (from seaborn) (1.4.2)\n",
      "Requirement already satisfied: numpy>=1.15 in c:\\users\\user\\appdata\\local\\programs\\python\\python310\\lib\\site-packages (from seaborn) (1.22.4)\n",
      "Requirement already satisfied: scipy>=1.0 in c:\\users\\user\\appdata\\local\\programs\\python\\python310\\lib\\site-packages (from seaborn) (1.8.1)\n",
      "Requirement already satisfied: pillow>=6.2.0 in c:\\users\\user\\appdata\\local\\programs\\python\\python310\\lib\\site-packages (from matplotlib>=2.2->seaborn) (8.4.0)\n",
      "Requirement already satisfied: kiwisolver>=1.0.1 in c:\\users\\user\\appdata\\local\\programs\\python\\python310\\lib\\site-packages (from matplotlib>=2.2->seaborn) (1.4.2)\n",
      "Requirement already satisfied: pyparsing>=2.2.1 in c:\\users\\user\\appdata\\local\\programs\\python\\python310\\lib\\site-packages (from matplotlib>=2.2->seaborn) (3.0.9)\n",
      "Requirement already satisfied: packaging>=20.0 in c:\\users\\user\\appdata\\local\\programs\\python\\python310\\lib\\site-packages (from matplotlib>=2.2->seaborn) (21.3)\n",
      "Requirement already satisfied: fonttools>=4.22.0 in c:\\users\\user\\appdata\\local\\programs\\python\\python310\\lib\\site-packages (from matplotlib>=2.2->seaborn) (4.33.3)\n",
      "Requirement already satisfied: cycler>=0.10 in c:\\users\\user\\appdata\\local\\programs\\python\\python310\\lib\\site-packages (from matplotlib>=2.2->seaborn) (0.11.0)\n",
      "Requirement already satisfied: python-dateutil>=2.7 in c:\\users\\user\\appdata\\local\\programs\\python\\python310\\lib\\site-packages (from matplotlib>=2.2->seaborn) (2.8.2)\n",
      "Requirement already satisfied: pytz>=2020.1 in c:\\users\\user\\appdata\\local\\programs\\python\\python310\\lib\\site-packages (from pandas>=0.23->seaborn) (2022.2.1)\n",
      "Requirement already satisfied: six>=1.5 in c:\\users\\user\\appdata\\local\\programs\\python\\python310\\lib\\site-packages (from python-dateutil>=2.7->matplotlib>=2.2->seaborn) (1.16.0)\n",
      "Collecting git+https://github.com/hengzhe-zhang/EvolutionaryForest.gitNote: you may need to restart the kernel to use updated packages.\n",
      "\n",
      "  Cloning https://github.com/hengzhe-zhang/EvolutionaryForest.git to c:\\users\\user\\appdata\\local\\temp\\pip-req-build-h9t_cixa\n",
      "  Resolved https://github.com/hengzhe-zhang/EvolutionaryForest.git to commit 9f04d3838cccfdaa916d4d71ace73a3827eafcc2\n",
      "  Preparing metadata (setup.py): started\n",
      "  Preparing metadata (setup.py): finished with status 'done'\n",
      "Requirement already satisfied: scipy in c:\\users\\user\\appdata\\local\\programs\\python\\python310\\lib\\site-packages (from evolutionary-forest==0.2.2) (1.8.1)\n",
      "Requirement already satisfied: hdfe in c:\\users\\user\\appdata\\local\\programs\\python\\python310\\lib\\site-packages (from evolutionary-forest==0.2.2) (0.0.4)\n",
      "Requirement already satisfied: numpy in c:\\users\\user\\appdata\\local\\programs\\python\\python310\\lib\\site-packages (from evolutionary-forest==0.2.2) (1.22.4)\n",
      "Requirement already satisfied: seaborn in c:\\users\\user\\appdata\\local\\programs\\python\\python310\\lib\\site-packages (from evolutionary-forest==0.2.2) (0.11.2)\n",
      "Requirement already satisfied: matplotlib in c:\\users\\user\\appdata\\local\\programs\\python\\python310\\lib\\site-packages (from evolutionary-forest==0.2.2) (3.5.2)\n",
      "Requirement already satisfied: deap in c:\\users\\user\\appdata\\local\\programs\\python\\python310\\lib\\site-packages (from evolutionary-forest==0.2.2) (1.3.3)\n",
      "Requirement already satisfied: sympy in c:\\users\\user\\appdata\\local\\programs\\python\\python310\\lib\\site-packages (from evolutionary-forest==0.2.2) (1.11.1)\n",
      "Requirement already satisfied: pandas in c:\\users\\user\\appdata\\local\\programs\\python\\python310\\lib\\site-packages (from evolutionary-forest==0.2.2) (1.4.2)\n",
      "Requirement already satisfied: scikit_learn in c:\\users\\user\\appdata\\local\\programs\\python\\python310\\lib\\site-packages (from evolutionary-forest==0.2.2) (1.1.1)\n",
      "Requirement already satisfied: dill in c:\\users\\user\\appdata\\local\\programs\\python\\python310\\lib\\site-packages (from evolutionary-forest==0.2.2) (0.3.7)\n",
      "Requirement already satisfied: lightgbm in c:\\users\\user\\appdata\\local\\programs\\python\\python310\\lib\\site-packages (from evolutionary-forest==0.2.2) (4.1.0)\n",
      "Requirement already satisfied: smt in c:\\users\\user\\appdata\\local\\programs\\python\\python310\\lib\\site-packages (from evolutionary-forest==0.2.2) (2.1.0)\n",
      "Requirement already satisfied: pytest in c:\\users\\user\\appdata\\local\\programs\\python\\python310\\lib\\site-packages (from evolutionary-forest==0.2.2) (7.4.3)\n",
      "Requirement already satisfied: joblib in c:\\users\\user\\appdata\\local\\programs\\python\\python310\\lib\\site-packages (from evolutionary-forest==0.2.2) (1.1.0)\n",
      "Requirement already satisfied: linear-tree in c:\\users\\user\\appdata\\local\\programs\\python\\python310\\lib\\site-packages (from evolutionary-forest==0.2.2) (0.3.5)\n",
      "Requirement already satisfied: mlxtend in c:\\users\\user\\appdata\\local\\programs\\python\\python310\\lib\\site-packages (from evolutionary-forest==0.2.2) (0.23.0)\n",
      "Requirement already satisfied: sklearn2pmml in c:\\users\\user\\appdata\\local\\programs\\python\\python310\\lib\\site-packages (from evolutionary-forest==0.2.2) (0.99.2)\n",
      "Requirement already satisfied: tpot in c:\\users\\user\\appdata\\local\\programs\\python\\python310\\lib\\site-packages (from evolutionary-forest==0.2.2) (0.12.1)\n",
      "Requirement already satisfied: gplearn in c:\\users\\user\\appdata\\local\\programs\\python\\python310\\lib\\site-packages (from evolutionary-forest==0.2.2) (0.4.2)\n",
      "Requirement already satisfied: scorch in c:\\users\\user\\appdata\\local\\programs\\python\\python310\\lib\\site-packages (from evolutionary-forest==0.2.2) (0.2.0)\n",
      "Requirement already satisfied: umap-learn in c:\\users\\user\\appdata\\local\\programs\\python\\python310\\lib\\site-packages (from evolutionary-forest==0.2.2) (0.5.5)\n",
      "Requirement already satisfied: category_encoders in c:\\users\\user\\appdata\\local\\programs\\python\\python310\\lib\\site-packages (from evolutionary-forest==0.2.2) (2.6.3)\n",
      "Requirement already satisfied: statsmodels>=0.9.0 in c:\\users\\user\\appdata\\local\\programs\\python\\python310\\lib\\site-packages (from category_encoders->evolutionary-forest==0.2.2) (0.13.2)\n",
      "Requirement already satisfied: patsy>=0.5.1 in c:\\users\\user\\appdata\\local\\programs\\python\\python310\\lib\\site-packages (from category_encoders->evolutionary-forest==0.2.2) (0.5.2)\n",
      "Requirement already satisfied: python-dateutil>=2.8.1 in c:\\users\\user\\appdata\\local\\programs\\python\\python310\\lib\\site-packages (from pandas->evolutionary-forest==0.2.2) (2.8.2)\n",
      "Requirement already satisfied: pytz>=2020.1 in c:\\users\\user\\appdata\\local\\programs\\python\\python310\\lib\\site-packages (from pandas->evolutionary-forest==0.2.2) (2022.2.1)\n",
      "Requirement already satisfied: threadpoolctl>=2.0.0 in c:\\users\\user\\appdata\\local\\programs\\python\\python310\\lib\\site-packages (from scikit_learn->evolutionary-forest==0.2.2) (3.1.0)\n",
      "Requirement already satisfied: pyparsing>=2.2.1 in c:\\users\\user\\appdata\\local\\programs\\python\\python310\\lib\\site-packages (from matplotlib->evolutionary-forest==0.2.2) (3.0.9)\n",
      "Requirement already satisfied: cycler>=0.10 in c:\\users\\user\\appdata\\local\\programs\\python\\python310\\lib\\site-packages (from matplotlib->evolutionary-forest==0.2.2) (0.11.0)\n",
      "Requirement already satisfied: kiwisolver>=1.0.1 in c:\\users\\user\\appdata\\local\\programs\\python\\python310\\lib\\site-packages (from matplotlib->evolutionary-forest==0.2.2) (1.4.2)\n",
      "Requirement already satisfied: packaging>=20.0 in c:\\users\\user\\appdata\\local\\programs\\python\\python310\\lib\\site-packages (from matplotlib->evolutionary-forest==0.2.2) (21.3)\n",
      "Requirement already satisfied: pillow>=6.2.0 in c:\\users\\user\\appdata\\local\\programs\\python\\python310\\lib\\site-packages (from matplotlib->evolutionary-forest==0.2.2) (8.4.0)\n",
      "Requirement already satisfied: fonttools>=4.22.0 in c:\\users\\user\\appdata\\local\\programs\\python\\python310\\lib\\site-packages (from matplotlib->evolutionary-forest==0.2.2) (4.33.3)\n",
      "Requirement already satisfied: colorama in c:\\users\\user\\appdata\\local\\programs\\python\\python310\\lib\\site-packages (from pytest->evolutionary-forest==0.2.2) (0.4.4)\n",
      "Requirement already satisfied: exceptiongroup>=1.0.0rc8 in c:\\users\\user\\appdata\\local\\programs\\python\\python310\\lib\\site-packages (from pytest->evolutionary-forest==0.2.2) (1.1.3)\n",
      "Requirement already satisfied: tomli>=1.0.0 in c:\\users\\user\\appdata\\local\\programs\\python\\python310\\lib\\site-packages (from pytest->evolutionary-forest==0.2.2) (2.0.1)\n",
      "Requirement already satisfied: iniconfig in c:\\users\\user\\appdata\\local\\programs\\python\\python310\\lib\\site-packages (from pytest->evolutionary-forest==0.2.2) (2.0.0)\n",
      "Requirement already satisfied: pluggy<2.0,>=0.12 in c:\\users\\user\\appdata\\local\\programs\\python\\python310\\lib\\site-packages (from pytest->evolutionary-forest==0.2.2) (1.3.0)\n",
      "Requirement already satisfied: tqdm in c:\\users\\user\\appdata\\local\\programs\\python\\python310\\lib\\site-packages (from scorch->evolutionary-forest==0.2.2) (4.64.0)\n",
      "Requirement already satisfied: docopt-ng>=0.7 in c:\\users\\user\\appdata\\local\\programs\\python\\python310\\lib\\site-packages (from scorch->evolutionary-forest==0.2.2) (0.9.0)\n",
      "Requirement already satisfied: sklearn-pandas>=0.0.10 in c:\\users\\user\\appdata\\local\\programs\\python\\python310\\lib\\site-packages (from sklearn2pmml->evolutionary-forest==0.2.2) (2.2.0)\n",
      "Requirement already satisfied: pyDOE3 in c:\\users\\user\\appdata\\local\\programs\\python\\python310\\lib\\site-packages (from smt->evolutionary-forest==0.2.2) (1.0.0)\n",
      "Requirement already satisfied: mpmath>=0.19 in c:\\users\\user\\appdata\\local\\programs\\python\\python310\\lib\\site-packages (from sympy->evolutionary-forest==0.2.2) (1.3.0)\n",
      "Requirement already satisfied: stopit>=1.1.1 in c:\\users\\user\\appdata\\local\\programs\\python\\python310\\lib\\site-packages (from tpot->evolutionary-forest==0.2.2) (1.1.2)\n",
      "Requirement already satisfied: xgboost>=1.1.0 in c:\\users\\user\\appdata\\local\\programs\\python\\python310\\lib\\site-packages (from tpot->evolutionary-forest==0.2.2) (2.0.2)\n",
      "Requirement already satisfied: update-checker>=0.16 in c:\\users\\user\\appdata\\local\\programs\\python\\python310\\lib\\site-packages (from tpot->evolutionary-forest==0.2.2) (0.18.0)\n",
      "Requirement already satisfied: numba>=0.51.2 in c:\\users\\user\\appdata\\local\\programs\\python\\python310\\lib\\site-packages (from umap-learn->evolutionary-forest==0.2.2) (0.56.4)\n",
      "Requirement already satisfied: pynndescent>=0.5 in c:\\users\\user\\appdata\\local\\programs\\python\\python310\\lib\\site-packages (from umap-learn->evolutionary-forest==0.2.2) (0.5.10)\n",
      "Requirement already satisfied: llvmlite<0.40,>=0.39.0dev0 in c:\\users\\user\\appdata\\local\\programs\\python\\python310\\lib\\site-packages (from numba>=0.51.2->umap-learn->evolutionary-forest==0.2.2) (0.39.1)\n",
      "Requirement already satisfied: setuptools in c:\\users\\user\\appdata\\local\\programs\\python\\python310\\lib\\site-packages (from numba>=0.51.2->umap-learn->evolutionary-forest==0.2.2) (58.1.0)\n",
      "Requirement already satisfied: six in c:\\users\\user\\appdata\\local\\programs\\python\\python310\\lib\\site-packages (from patsy>=0.5.1->category_encoders->evolutionary-forest==0.2.2) (1.16.0)\n",
      "Requirement already satisfied: requests>=2.3.0 in c:\\users\\user\\appdata\\local\\programs\\python\\python310\\lib\\site-packages (from update-checker>=0.16->tpot->evolutionary-forest==0.2.2) (2.28.1)\n",
      "Requirement already satisfied: certifi>=2017.4.17 in c:\\users\\user\\appdata\\local\\programs\\python\\python310\\lib\\site-packages (from requests>=2.3.0->update-checker>=0.16->tpot->evolutionary-forest==0.2.2) (2022.6.15)\n",
      "Requirement already satisfied: idna<4,>=2.5 in c:\\users\\user\\appdata\\local\\programs\\python\\python310\\lib\\site-packages (from requests>=2.3.0->update-checker>=0.16->tpot->evolutionary-forest==0.2.2) (3.3)\n",
      "Requirement already satisfied: urllib3<1.27,>=1.21.1 in c:\\users\\user\\appdata\\local\\programs\\python\\python310\\lib\\site-packages (from requests>=2.3.0->update-checker>=0.16->tpot->evolutionary-forest==0.2.2) (1.26.9)\n",
      "Requirement already satisfied: charset-normalizer<3,>=2 in c:\\users\\user\\appdata\\local\\programs\\python\\python310\\lib\\site-packages (from requests>=2.3.0->update-checker>=0.16->tpot->evolutionary-forest==0.2.2) (2.1.0)\n",
      "Building wheels for collected packages: evolutionary-forest\n",
      "  Building wheel for evolutionary-forest (setup.py): started\n",
      "  Building wheel for evolutionary-forest (setup.py): finished with status 'done'\n",
      "  Created wheel for evolutionary-forest: filename=evolutionary_forest-0.2.2-py2.py3-none-any.whl size=155886 sha256=03c29f25153a28631af53d11a1d5a432601139bf1efc4800feb682065333ac3d\n",
      "  Stored in directory: C:\\Users\\user\\AppData\\Local\\Temp\\pip-ephem-wheel-cache-f9lvavvr\\wheels\\57\\19\\c0\\c946b182439b5109b1a5578ec65efac01f28f65e13bb56c4c4\n",
      "Successfully built evolutionary-forest\n",
      "Installing collected packages: evolutionary-forest\n",
      "Successfully installed evolutionary-forest-0.2.2\n"
     ]
    },
    {
     "name": "stderr",
     "output_type": "stream",
     "text": [
      "  Running command git clone --filter=blob:none --quiet https://github.com/hengzhe-zhang/EvolutionaryForest.git 'C:\\Users\\user\\AppData\\Local\\Temp\\pip-req-build-h9t_cixa'\n",
      "WARNING: There was an error checking the latest version of pip.\n"
     ]
    },
    {
     "name": "stdout",
     "output_type": "stream",
     "text": [
      "Requirement already satisfied: gplearn in c:\\users\\user\\appdata\\local\\programs\\python\\python310\\lib\\site-packages (0.4.2)\n",
      "Requirement already satisfied: scikit-learn>=1.0.2 in c:\\users\\user\\appdata\\local\\programs\\python\\python310\\lib\\site-packages (from gplearn) (1.1.1)\n",
      "Requirement already satisfied: joblib>=1.0.0 in c:\\users\\user\\appdata\\local\\programs\\python\\python310\\lib\\site-packages (from gplearn) (1.1.0)\n",
      "Requirement already satisfied: threadpoolctl>=2.0.0 in c:\\users\\user\\appdata\\local\\programs\\python\\python310\\lib\\site-packages (from scikit-learn>=1.0.2->gplearn) (3.1.0)\n",
      "Requirement already satisfied: scipy>=1.3.2 in c:\\users\\user\\appdata\\local\\programs\\python\\python310\\lib\\site-packages (from scikit-learn>=1.0.2->gplearn) (1.8.1)\n",
      "Requirement already satisfied: numpy>=1.17.3 in c:\\users\\user\\appdata\\local\\programs\\python\\python310\\lib\\site-packages (from scikit-learn>=1.0.2->gplearn) (1.22.4)\n",
      "Note: you may need to restart the kernel to use updated packages.\n"
     ]
    },
    {
     "name": "stderr",
     "output_type": "stream",
     "text": [
      "WARNING: There was an error checking the latest version of pip.\n"
     ]
    },
    {
     "name": "stdout",
     "output_type": "stream",
     "text": [
      "Requirement already satisfied: scipy in c:\\users\\user\\appdata\\local\\programs\\python\\python310\\lib\\site-packages (1.8.1)\n",
      "Requirement already satisfied: numpy<1.25.0,>=1.17.3 in c:\\users\\user\\appdata\\local\\programs\\python\\python310\\lib\\site-packages (from scipy) (1.22.4)\n",
      "Note: you may need to restart the kernel to use updated packages.\n"
     ]
    },
    {
     "name": "stderr",
     "output_type": "stream",
     "text": [
      "WARNING: There was an error checking the latest version of pip.\n"
     ]
    },
    {
     "name": "stdout",
     "output_type": "stream",
     "text": [
      "Requirement already satisfied: hdfe in c:\\users\\user\\appdata\\local\\programs\\python\\python310\\lib\\site-packages (0.0.4)\n",
      "Requirement already satisfied: scipy in c:\\users\\user\\appdata\\local\\programs\\python\\python310\\lib\\site-packages (from hdfe) (1.8.1)\n",
      "Requirement already satisfied: pandas>=0.25.0 in c:\\users\\user\\appdata\\local\\programs\\python\\python310\\lib\\site-packages (from hdfe) (1.4.2)\n",
      "Requirement already satisfied: numpy in c:\\users\\user\\appdata\\local\\programs\\python\\python310\\lib\\site-packages (from hdfe) (1.22.4)\n",
      "Requirement already satisfied: python-dateutil>=2.8.1 in c:\\users\\user\\appdata\\local\\programs\\python\\python310\\lib\\site-packages (from pandas>=0.25.0->hdfe) (2.8.2)\n",
      "Requirement already satisfied: pytz>=2020.1 in c:\\users\\user\\appdata\\local\\programs\\python\\python310\\lib\\site-packages (from pandas>=0.25.0->hdfe) (2022.2.1)\n",
      "Requirement already satisfied: six>=1.5 in c:\\users\\user\\appdata\\local\\programs\\python\\python310\\lib\\site-packages (from python-dateutil>=2.8.1->pandas>=0.25.0->hdfe) (1.16.0)\n",
      "Note: you may need to restart the kernel to use updated packages.\n"
     ]
    },
    {
     "name": "stderr",
     "output_type": "stream",
     "text": [
      "WARNING: There was an error checking the latest version of pip.\n"
     ]
    },
    {
     "name": "stdout",
     "output_type": "stream",
     "text": [
      "Requirement already satisfied: deap==1.3.3 in c:\\users\\user\\appdata\\local\\programs\\python\\python310\\lib\\site-packages (1.3.3)\n",
      "Requirement already satisfied: numpy in c:\\users\\user\\appdata\\local\\programs\\python\\python310\\lib\\site-packages (from deap==1.3.3) (1.22.4)\n",
      "Note: you may need to restart the kernel to use updated packages.\n"
     ]
    },
    {
     "name": "stderr",
     "output_type": "stream",
     "text": [
      "WARNING: There was an error checking the latest version of pip.\n"
     ]
    },
    {
     "name": "stdout",
     "output_type": "stream",
     "text": [
      "Requirement already satisfied: sympy in c:\\users\\user\\appdata\\local\\programs\\python\\python310\\lib\\site-packages (1.11.1)Note: you may need to restart the kernel to use updated packages.\n",
      "\n",
      "Requirement already satisfied: mpmath>=0.19 in c:\\users\\user\\appdata\\local\\programs\\python\\python310\\lib\\site-packages (from sympy) (1.3.0)\n"
     ]
    },
    {
     "name": "stderr",
     "output_type": "stream",
     "text": [
      "WARNING: There was an error checking the latest version of pip.\n"
     ]
    },
    {
     "name": "stdout",
     "output_type": "stream",
     "text": [
      "Requirement already satisfied: scikit_learn in c:\\users\\user\\appdata\\local\\programs\\python\\python310\\lib\\site-packages (1.1.1)\n",
      "Requirement already satisfied: scipy>=1.3.2 in c:\\users\\user\\appdata\\local\\programs\\python\\python310\\lib\\site-packages (from scikit_learn) (1.8.1)\n",
      "Requirement already satisfied: threadpoolctl>=2.0.0 in c:\\users\\user\\appdata\\local\\programs\\python\\python310\\lib\\site-packages (from scikit_learn) (3.1.0)\n",
      "Requirement already satisfied: joblib>=1.0.0 in c:\\users\\user\\appdata\\local\\programs\\python\\python310\\lib\\site-packages (from scikit_learn) (1.1.0)\n",
      "Requirement already satisfied: numpy>=1.17.3 in c:\\users\\user\\appdata\\local\\programs\\python\\python310\\lib\\site-packages (from scikit_learn) (1.22.4)\n",
      "Note: you may need to restart the kernel to use updated packages.\n"
     ]
    },
    {
     "name": "stderr",
     "output_type": "stream",
     "text": [
      "WARNING: There was an error checking the latest version of pip.\n"
     ]
    },
    {
     "name": "stdout",
     "output_type": "stream",
     "text": [
      "Requirement already satisfied: dill in c:\\users\\user\\appdata\\local\\programs\\python\\python310\\lib\\site-packages (0.3.7)\n",
      "Note: you may need to restart the kernel to use updated packages.\n"
     ]
    },
    {
     "name": "stderr",
     "output_type": "stream",
     "text": [
      "WARNING: There was an error checking the latest version of pip.\n"
     ]
    },
    {
     "name": "stdout",
     "output_type": "stream",
     "text": [
      "Requirement already satisfied: lightgbm in c:\\users\\user\\appdata\\local\\programs\\python\\python310\\lib\\site-packages (4.1.0)\n",
      "Requirement already satisfied: numpy in c:\\users\\user\\appdata\\local\\programs\\python\\python310\\lib\\site-packages (from lightgbm) (1.22.4)\n",
      "Requirement already satisfied: scipy in c:\\users\\user\\appdata\\local\\programs\\python\\python310\\lib\\site-packages (from lightgbm) (1.8.1)\n",
      "Note: you may need to restart the kernel to use updated packages.\n"
     ]
    },
    {
     "name": "stderr",
     "output_type": "stream",
     "text": [
      "WARNING: There was an error checking the latest version of pip.\n"
     ]
    },
    {
     "name": "stdout",
     "output_type": "stream",
     "text": [
      "Requirement already satisfied: skorch in c:\\users\\user\\appdata\\local\\programs\\python\\python310\\lib\\site-packages (0.15.0)\n",
      "Requirement already satisfied: tabulate>=0.7.7 in c:\\users\\user\\appdata\\local\\programs\\python\\python310\\lib\\site-packages (from skorch) (0.8.10)\n",
      "Requirement already satisfied: tqdm>=4.14.0 in c:\\users\\user\\appdata\\local\\programs\\python\\python310\\lib\\site-packages (from skorch) (4.64.0)\n",
      "Requirement already satisfied: scikit-learn>=0.22.0 in c:\\users\\user\\appdata\\local\\programs\\python\\python310\\lib\\site-packages (from skorch) (1.1.1)\n",
      "Requirement already satisfied: numpy>=1.13.3 in c:\\users\\user\\appdata\\local\\programs\\python\\python310\\lib\\site-packages (from skorch) (1.22.4)\n",
      "Requirement already satisfied: scipy>=1.1.0 in c:\\users\\user\\appdata\\local\\programs\\python\\python310\\lib\\site-packages (from skorch) (1.8.1)\n",
      "Requirement already satisfied: joblib>=1.0.0 in c:\\users\\user\\appdata\\local\\programs\\python\\python310\\lib\\site-packages (from scikit-learn>=0.22.0->skorch) (1.1.0)\n",
      "Requirement already satisfied: threadpoolctl>=2.0.0 in c:\\users\\user\\appdata\\local\\programs\\python\\python310\\lib\\site-packages (from scikit-learn>=0.22.0->skorch) (3.1.0)\n",
      "Requirement already satisfied: colorama in c:\\users\\user\\appdata\\local\\programs\\python\\python310\\lib\\site-packages (from tqdm>=4.14.0->skorch) (0.4.4)\n",
      "Note: you may need to restart the kernel to use updated packages.\n"
     ]
    },
    {
     "name": "stderr",
     "output_type": "stream",
     "text": [
      "WARNING: There was an error checking the latest version of pip.\n"
     ]
    },
    {
     "name": "stdout",
     "output_type": "stream",
     "text": [
      "Requirement already satisfied: umap-learn in c:\\users\\user\\appdata\\local\\programs\\python\\python310\\lib\\site-packages (0.5.5)\n",
      "Requirement already satisfied: numba>=0.51.2 in c:\\users\\user\\appdata\\local\\programs\\python\\python310\\lib\\site-packages (from umap-learn) (0.56.4)\n",
      "Requirement already satisfied: scikit-learn>=0.22 in c:\\users\\user\\appdata\\local\\programs\\python\\python310\\lib\\site-packages (from umap-learn) (1.1.1)\n",
      "Requirement already satisfied: pynndescent>=0.5 in c:\\users\\user\\appdata\\local\\programs\\python\\python310\\lib\\site-packages (from umap-learn) (0.5.10)\n",
      "Requirement already satisfied: tqdm in c:\\users\\user\\appdata\\local\\programs\\python\\python310\\lib\\site-packages (from umap-learn) (4.64.0)\n",
      "Requirement already satisfied: numpy>=1.17 in c:\\users\\user\\appdata\\local\\programs\\python\\python310\\lib\\site-packages (from umap-learn) (1.22.4)\n",
      "Requirement already satisfied: scipy>=1.3.1 in c:\\users\\user\\appdata\\local\\programs\\python\\python310\\lib\\site-packages (from umap-learn) (1.8.1)\n",
      "Requirement already satisfied: setuptools in c:\\users\\user\\appdata\\local\\programs\\python\\python310\\lib\\site-packages (from numba>=0.51.2->umap-learn) (58.1.0)\n",
      "Requirement already satisfied: llvmlite<0.40,>=0.39.0dev0 in c:\\users\\user\\appdata\\local\\programs\\python\\python310\\lib\\site-packages (from numba>=0.51.2->umap-learn) (0.39.1)\n",
      "Requirement already satisfied: joblib>=0.11 in c:\\users\\user\\appdata\\local\\programs\\python\\python310\\lib\\site-packages (from pynndescent>=0.5->umap-learn) (1.1.0)\n",
      "Requirement already satisfied: threadpoolctl>=2.0.0 in c:\\users\\user\\appdata\\local\\programs\\python\\python310\\lib\\site-packages (from scikit-learn>=0.22->umap-learn) (3.1.0)\n",
      "Requirement already satisfied: colorama in c:\\users\\user\\appdata\\local\\programs\\python\\python310\\lib\\site-packages (from tqdm->umap-learn) (0.4.4)\n",
      "Note: you may need to restart the kernel to use updated packages.\n"
     ]
    },
    {
     "name": "stderr",
     "output_type": "stream",
     "text": [
      "WARNING: There was an error checking the latest version of pip.\n"
     ]
    },
    {
     "name": "stdout",
     "output_type": "stream",
     "text": [
      "Requirement already satisfied: category_encoders in c:\\users\\user\\appdata\\local\\programs\\python\\python310\\lib\\site-packages (2.6.3)\n",
      "Requirement already satisfied: statsmodels>=0.9.0 in c:\\users\\user\\appdata\\local\\programs\\python\\python310\\lib\\site-packages (from category_encoders) (0.13.2)\n",
      "Requirement already satisfied: scikit-learn>=0.20.0 in c:\\users\\user\\appdata\\local\\programs\\python\\python310\\lib\\site-packages (from category_encoders) (1.1.1)\n",
      "Requirement already satisfied: patsy>=0.5.1 in c:\\users\\user\\appdata\\local\\programs\\python\\python310\\lib\\site-packages (from category_encoders) (0.5.2)\n",
      "Requirement already satisfied: numpy>=1.14.0 in c:\\users\\user\\appdata\\local\\programs\\python\\python310\\lib\\site-packages (from category_encoders) (1.22.4)\n",
      "Requirement already satisfied: scipy>=1.0.0 in c:\\users\\user\\appdata\\local\\programs\\python\\python310\\lib\\site-packages (from category_encoders) (1.8.1)\n",
      "Requirement already satisfied: pandas>=1.0.5 in c:\\users\\user\\appdata\\local\\programs\\python\\python310\\lib\\site-packages (from category_encoders) (1.4.2)\n",
      "Requirement already satisfied: python-dateutil>=2.8.1 in c:\\users\\user\\appdata\\local\\programs\\python\\python310\\lib\\site-packages (from pandas>=1.0.5->category_encoders) (2.8.2)\n",
      "Requirement already satisfied: pytz>=2020.1 in c:\\users\\user\\appdata\\local\\programs\\python\\python310\\lib\\site-packages (from pandas>=1.0.5->category_encoders) (2022.2.1)\n",
      "Requirement already satisfied: six in c:\\users\\user\\appdata\\local\\programs\\python\\python310\\lib\\site-packages (from patsy>=0.5.1->category_encoders) (1.16.0)\n",
      "Requirement already satisfied: joblib>=1.0.0 in c:\\users\\user\\appdata\\local\\programs\\python\\python310\\lib\\site-packages (from scikit-learn>=0.20.0->category_encoders) (1.1.0)\n",
      "Requirement already satisfied: threadpoolctl>=2.0.0 in c:\\users\\user\\appdata\\local\\programs\\python\\python310\\lib\\site-packages (from scikit-learn>=0.20.0->category_encoders) (3.1.0)\n",
      "Requirement already satisfied: packaging>=21.3 in c:\\users\\user\\appdata\\local\\programs\\python\\python310\\lib\\site-packages (from statsmodels>=0.9.0->category_encoders) (21.3)\n",
      "Requirement already satisfied: pyparsing!=3.0.5,>=2.0.2 in c:\\users\\user\\appdata\\local\\programs\\python\\python310\\lib\\site-packages (from packaging>=21.3->statsmodels>=0.9.0->category_encoders) (3.0.9)\n",
      "Note: you may need to restart the kernel to use updated packages.\n"
     ]
    },
    {
     "name": "stderr",
     "output_type": "stream",
     "text": [
      "WARNING: There was an error checking the latest version of pip.\n"
     ]
    },
    {
     "name": "stdout",
     "output_type": "stream",
     "text": [
      "Requirement already satisfied: pyade in c:\\users\\user\\appdata\\local\\programs\\python\\python310\\lib\\site-packages (0.0.2)\n",
      "Requirement already satisfied: requests in c:\\users\\user\\appdata\\local\\programs\\python\\python310\\lib\\site-packages (from pyade) (2.28.1)\n",
      "Requirement already satisfied: pytz in c:\\users\\user\\appdata\\local\\programs\\python\\python310\\lib\\site-packages (from pyade) (2022.2.1)\n",
      "Requirement already satisfied: click in c:\\users\\user\\appdata\\local\\programs\\python\\python310\\lib\\site-packages (from pyade) (8.1.7)\n",
      "Requirement already satisfied: colorama in c:\\users\\user\\appdata\\local\\programs\\python\\python310\\lib\\site-packages (from click->pyade) (0.4.4)\n",
      "Requirement already satisfied: urllib3<1.27,>=1.21.1 in c:\\users\\user\\appdata\\local\\programs\\python\\python310\\lib\\site-packages (from requests->pyade) (1.26.9)\n",
      "Requirement already satisfied: idna<4,>=2.5 in c:\\users\\user\\appdata\\local\\programs\\python\\python310\\lib\\site-packages (from requests->pyade) (3.3)\n",
      "Requirement already satisfied: charset-normalizer<3,>=2 in c:\\users\\user\\appdata\\local\\programs\\python\\python310\\lib\\site-packages (from requests->pyade) (2.1.0)\n",
      "Requirement already satisfied: certifi>=2017.4.17 in c:\\users\\user\\appdata\\local\\programs\\python\\python310\\lib\\site-packages (from requests->pyade) (2022.6.15)\n",
      "Note: you may need to restart the kernel to use updated packages.\n"
     ]
    },
    {
     "name": "stderr",
     "output_type": "stream",
     "text": [
      "WARNING: There was an error checking the latest version of pip.\n"
     ]
    },
    {
     "name": "stdout",
     "output_type": "stream",
     "text": [
      "Requirement already satisfied: networkx in c:\\users\\user\\appdata\\local\\programs\\python\\python310\\lib\\site-packages (3.0)\n",
      "Note: you may need to restart the kernel to use updated packages.\n"
     ]
    },
    {
     "name": "stderr",
     "output_type": "stream",
     "text": [
      "WARNING: There was an error checking the latest version of pip.\n"
     ]
    },
    {
     "name": "stdout",
     "output_type": "stream",
     "text": [
      "Requirement already satisfied: torch in c:\\users\\user\\appdata\\local\\programs\\python\\python310\\lib\\site-packages (2.0.0)\n",
      "Requirement already satisfied: filelock in c:\\users\\user\\appdata\\local\\programs\\python\\python310\\lib\\site-packages (from torch) (3.10.0)\n",
      "Requirement already satisfied: jinja2 in c:\\users\\user\\appdata\\local\\programs\\python\\python310\\lib\\site-packages (from torch) (3.1.2)\n",
      "Requirement already satisfied: networkx in c:\\users\\user\\appdata\\local\\programs\\python\\python310\\lib\\site-packages (from torch) (3.0)\n",
      "Requirement already satisfied: sympy in c:\\users\\user\\appdata\\local\\programs\\python\\python310\\lib\\site-packages (from torch) (1.11.1)\n",
      "Requirement already satisfied: typing-extensions in c:\\users\\user\\appdata\\local\\programs\\python\\python310\\lib\\site-packages (from torch) (4.2.0)\n",
      "Requirement already satisfied: MarkupSafe>=2.0 in c:\\users\\user\\appdata\\local\\programs\\python\\python310\\lib\\site-packages (from jinja2->torch) (2.1.2)\n",
      "Requirement already satisfied: mpmath>=0.19 in c:\\users\\user\\appdata\\local\\programs\\python\\python310\\lib\\site-packages (from sympy->torch) (1.3.0)\n",
      "Note: you may need to restart the kernel to use updated packages.\n"
     ]
    },
    {
     "name": "stderr",
     "output_type": "stream",
     "text": [
      "WARNING: There was an error checking the latest version of pip.\n"
     ]
    },
    {
     "name": "stdout",
     "output_type": "stream",
     "text": [
      "Requirement already satisfied: tpot in c:\\users\\user\\appdata\\local\\programs\\python\\python310\\lib\\site-packages (0.12.1)\n",
      "Requirement already satisfied: pandas>=0.24.2 in c:\\users\\user\\appdata\\local\\programs\\python\\python310\\lib\\site-packages (from tpot) (1.4.2)\n",
      "Requirement already satisfied: xgboost>=1.1.0 in c:\\users\\user\\appdata\\local\\programs\\python\\python310\\lib\\site-packages (from tpot) (2.0.2)\n",
      "Requirement already satisfied: update-checker>=0.16 in c:\\users\\user\\appdata\\local\\programs\\python\\python310\\lib\\site-packages (from tpot) (0.18.0)\n",
      "Requirement already satisfied: deap>=1.2 in c:\\users\\user\\appdata\\local\\programs\\python\\python310\\lib\\site-packages (from tpot) (1.3.3)\n",
      "Requirement already satisfied: scikit-learn>=0.22.0 in c:\\users\\user\\appdata\\local\\programs\\python\\python310\\lib\\site-packages (from tpot) (1.1.1)\n",
      "Requirement already satisfied: scipy>=1.3.1 in c:\\users\\user\\appdata\\local\\programs\\python\\python310\\lib\\site-packages (from tpot) (1.8.1)\n",
      "Requirement already satisfied: tqdm>=4.36.1 in c:\\users\\user\\appdata\\local\\programs\\python\\python310\\lib\\site-packages (from tpot) (4.64.0)\n",
      "Requirement already satisfied: joblib>=0.13.2 in c:\\users\\user\\appdata\\local\\programs\\python\\python310\\lib\\site-packages (from tpot) (1.1.0)\n",
      "Requirement already satisfied: stopit>=1.1.1 in c:\\users\\user\\appdata\\local\\programs\\python\\python310\\lib\\site-packages (from tpot) (1.1.2)\n",
      "Requirement already satisfied: numpy>=1.16.3 in c:\\users\\user\\appdata\\local\\programs\\python\\python310\\lib\\site-packages (from tpot) (1.22.4)\n",
      "Requirement already satisfied: pytz>=2020.1 in c:\\users\\user\\appdata\\local\\programs\\python\\python310\\lib\\site-packages (from pandas>=0.24.2->tpot) (2022.2.1)\n",
      "Requirement already satisfied: python-dateutil>=2.8.1 in c:\\users\\user\\appdata\\local\\programs\\python\\python310\\lib\\site-packages (from pandas>=0.24.2->tpot) (2.8.2)\n",
      "Requirement already satisfied: threadpoolctl>=2.0.0 in c:\\users\\user\\appdata\\local\\programs\\python\\python310\\lib\\site-packages (from scikit-learn>=0.22.0->tpot) (3.1.0)\n",
      "Requirement already satisfied: colorama in c:\\users\\user\\appdata\\local\\programs\\python\\python310\\lib\\site-packages (from tqdm>=4.36.1->tpot) (0.4.4)\n",
      "Requirement already satisfied: requests>=2.3.0 in c:\\users\\user\\appdata\\local\\programs\\python\\python310\\lib\\site-packages (from update-checker>=0.16->tpot) (2.28.1)\n",
      "Requirement already satisfied: six>=1.5 in c:\\users\\user\\appdata\\local\\programs\\python\\python310\\lib\\site-packages (from python-dateutil>=2.8.1->pandas>=0.24.2->tpot) (1.16.0)\n",
      "Requirement already satisfied: charset-normalizer<3,>=2 in c:\\users\\user\\appdata\\local\\programs\\python\\python310\\lib\\site-packages (from requests>=2.3.0->update-checker>=0.16->tpot) (2.1.0)\n",
      "Requirement already satisfied: urllib3<1.27,>=1.21.1 in c:\\users\\user\\appdata\\local\\programs\\python\\python310\\lib\\site-packages (from requests>=2.3.0->update-checker>=0.16->tpot) (1.26.9)\n",
      "Requirement already satisfied: idna<4,>=2.5 in c:\\users\\user\\appdata\\local\\programs\\python\\python310\\lib\\site-packages (from requests>=2.3.0->update-checker>=0.16->tpot) (3.3)\n",
      "Requirement already satisfied: certifi>=2017.4.17 in c:\\users\\user\\appdata\\local\\programs\\python\\python310\\lib\\site-packages (from requests>=2.3.0->update-checker>=0.16->tpot) (2022.6.15)\n",
      "Note: you may need to restart the kernel to use updated packages.\n"
     ]
    },
    {
     "name": "stderr",
     "output_type": "stream",
     "text": [
      "WARNING: There was an error checking the latest version of pip.\n"
     ]
    },
    {
     "name": "stdout",
     "output_type": "stream",
     "text": [
      "Requirement already satisfied: linear-tree in c:\\users\\user\\appdata\\local\\programs\\python\\python310\\lib\\site-packages (0.3.5)\n",
      "Requirement already satisfied: scipy in c:\\users\\user\\appdata\\local\\programs\\python\\python310\\lib\\site-packages (from linear-tree) (1.8.1)\n",
      "Requirement already satisfied: scikit-learn>=0.24.2 in c:\\users\\user\\appdata\\local\\programs\\python\\python310\\lib\\site-packages (from linear-tree) (1.1.1)\n",
      "Requirement already satisfied: numpy in c:\\users\\user\\appdata\\local\\programs\\python\\python310\\lib\\site-packages (from linear-tree) (1.22.4)\n",
      "Requirement already satisfied: threadpoolctl>=2.0.0 in c:\\users\\user\\appdata\\local\\programs\\python\\python310\\lib\\site-packages (from scikit-learn>=0.24.2->linear-tree) (3.1.0)\n",
      "Requirement already satisfied: joblib>=1.0.0 in c:\\users\\user\\appdata\\local\\programs\\python\\python310\\lib\\site-packages (from scikit-learn>=0.24.2->linear-tree) (1.1.0)\n",
      "Note: you may need to restart the kernel to use updated packages.\n"
     ]
    },
    {
     "name": "stderr",
     "output_type": "stream",
     "text": [
      "WARNING: There was an error checking the latest version of pip.\n"
     ]
    },
    {
     "name": "stdout",
     "output_type": "stream",
     "text": [
      "Requirement already satisfied: sklearn2pmml in c:\\users\\user\\appdata\\local\\programs\\python\\python310\\lib\\site-packages (0.99.2)\n",
      "Requirement already satisfied: joblib>=0.13.0 in c:\\users\\user\\appdata\\local\\programs\\python\\python310\\lib\\site-packages (from sklearn2pmml) (1.1.0)\n",
      "Requirement already satisfied: scikit-learn>=0.18.0 in c:\\users\\user\\appdata\\local\\programs\\python\\python310\\lib\\site-packages (from sklearn2pmml) (1.1.1)\n",
      "Requirement already satisfied: dill>=0.3.4 in c:\\users\\user\\appdata\\local\\programs\\python\\python310\\lib\\site-packages (from sklearn2pmml) (0.3.7)\n",
      "Requirement already satisfied: sklearn-pandas>=0.0.10 in c:\\users\\user\\appdata\\local\\programs\\python\\python310\\lib\\site-packages (from sklearn2pmml) (2.2.0)\n",
      "Requirement already satisfied: threadpoolctl>=2.0.0 in c:\\users\\user\\appdata\\local\\programs\\python\\python310\\lib\\site-packages (from scikit-learn>=0.18.0->sklearn2pmml) (3.1.0)\n",
      "Requirement already satisfied: scipy>=1.3.2 in c:\\users\\user\\appdata\\local\\programs\\python\\python310\\lib\\site-packages (from scikit-learn>=0.18.0->sklearn2pmml) (1.8.1)\n",
      "Requirement already satisfied: numpy>=1.17.3 in c:\\users\\user\\appdata\\local\\programs\\python\\python310\\lib\\site-packages (from scikit-learn>=0.18.0->sklearn2pmml) (1.22.4)\n",
      "Requirement already satisfied: pandas>=1.1.4 in c:\\users\\user\\appdata\\local\\programs\\python\\python310\\lib\\site-packages (from sklearn-pandas>=0.0.10->sklearn2pmml) (1.4.2)\n",
      "Requirement already satisfied: pytz>=2020.1 in c:\\users\\user\\appdata\\local\\programs\\python\\python310\\lib\\site-packages (from pandas>=1.1.4->sklearn-pandas>=0.0.10->sklearn2pmml) (2022.2.1)\n",
      "Requirement already satisfied: python-dateutil>=2.8.1 in c:\\users\\user\\appdata\\local\\programs\\python\\python310\\lib\\site-packages (from pandas>=1.1.4->sklearn-pandas>=0.0.10->sklearn2pmml) (2.8.2)\n",
      "Requirement already satisfied: six>=1.5 in c:\\users\\user\\appdata\\local\\programs\\python\\python310\\lib\\site-packages (from python-dateutil>=2.8.1->pandas>=1.1.4->sklearn-pandas>=0.0.10->sklearn2pmml) (1.16.0)\n",
      "Note: you may need to restart the kernel to use updated packages.\n"
     ]
    },
    {
     "name": "stderr",
     "output_type": "stream",
     "text": [
      "WARNING: There was an error checking the latest version of pip.\n"
     ]
    },
    {
     "name": "stdout",
     "output_type": "stream",
     "text": [
      "Requirement already satisfied: shap in c:\\users\\user\\appdata\\local\\programs\\python\\python310\\lib\\site-packages (0.43.0)\n",
      "Requirement already satisfied: numpy in c:\\users\\user\\appdata\\local\\programs\\python\\python310\\lib\\site-packages (from shap) (1.22.4)\n",
      "Requirement already satisfied: scipy in c:\\users\\user\\appdata\\local\\programs\\python\\python310\\lib\\site-packages (from shap) (1.8.1)\n",
      "Requirement already satisfied: pandas in c:\\users\\user\\appdata\\local\\programs\\python\\python310\\lib\\site-packages (from shap) (1.4.2)\n",
      "Requirement already satisfied: numba in c:\\users\\user\\appdata\\local\\programs\\python\\python310\\lib\\site-packages (from shap) (0.56.4)\n",
      "Requirement already satisfied: scikit-learn in c:\\users\\user\\appdata\\local\\programs\\python\\python310\\lib\\site-packages (from shap) (1.1.1)\n",
      "Requirement already satisfied: cloudpickle in c:\\users\\user\\appdata\\local\\programs\\python\\python310\\lib\\site-packages (from shap) (3.0.0)\n",
      "Requirement already satisfied: packaging>20.9 in c:\\users\\user\\appdata\\local\\programs\\python\\python310\\lib\\site-packages (from shap) (21.3)\n",
      "Requirement already satisfied: tqdm>=4.27.0 in c:\\users\\user\\appdata\\local\\programs\\python\\python310\\lib\\site-packages (from shap) (4.64.0)\n",
      "Requirement already satisfied: slicer==0.0.7 in c:\\users\\user\\appdata\\local\\programs\\python\\python310\\lib\\site-packages (from shap) (0.0.7)\n",
      "Requirement already satisfied: pyparsing!=3.0.5,>=2.0.2 in c:\\users\\user\\appdata\\local\\programs\\python\\python310\\lib\\site-packages (from packaging>20.9->shap) (3.0.9)\n",
      "Requirement already satisfied: colorama in c:\\users\\user\\appdata\\local\\programs\\python\\python310\\lib\\site-packages (from tqdm>=4.27.0->shap) (0.4.4)\n",
      "Requirement already satisfied: setuptools in c:\\users\\user\\appdata\\local\\programs\\python\\python310\\lib\\site-packages (from numba->shap) (58.1.0)\n",
      "Requirement already satisfied: llvmlite<0.40,>=0.39.0dev0 in c:\\users\\user\\appdata\\local\\programs\\python\\python310\\lib\\site-packages (from numba->shap) (0.39.1)\n",
      "Requirement already satisfied: python-dateutil>=2.8.1 in c:\\users\\user\\appdata\\local\\programs\\python\\python310\\lib\\site-packages (from pandas->shap) (2.8.2)\n",
      "Requirement already satisfied: pytz>=2020.1 in c:\\users\\user\\appdata\\local\\programs\\python\\python310\\lib\\site-packages (from pandas->shap) (2022.2.1)\n",
      "Requirement already satisfied: joblib>=1.0.0 in c:\\users\\user\\appdata\\local\\programs\\python\\python310\\lib\\site-packages (from scikit-learn->shap) (1.1.0)\n",
      "Requirement already satisfied: threadpoolctl>=2.0.0 in c:\\users\\user\\appdata\\local\\programs\\python\\python310\\lib\\site-packages (from scikit-learn->shap) (3.1.0)\n",
      "Requirement already satisfied: six>=1.5 in c:\\users\\user\\appdata\\local\\programs\\python\\python310\\lib\\site-packages (from python-dateutil>=2.8.1->pandas->shap) (1.16.0)\n",
      "Note: you may need to restart the kernel to use updated packages.\n"
     ]
    },
    {
     "name": "stderr",
     "output_type": "stream",
     "text": [
      "WARNING: There was an error checking the latest version of pip.\n"
     ]
    },
    {
     "name": "stdout",
     "output_type": "stream",
     "text": [
      "Requirement already satisfied: mlxtend in c:\\users\\user\\appdata\\local\\programs\\python\\python310\\lib\\site-packages (0.23.0)\n",
      "Requirement already satisfied: pandas>=0.24.2 in c:\\users\\user\\appdata\\local\\programs\\python\\python310\\lib\\site-packages (from mlxtend) (1.4.2)\n",
      "Requirement already satisfied: matplotlib>=3.0.0 in c:\\users\\user\\appdata\\local\\programs\\python\\python310\\lib\\site-packages (from mlxtend) (3.5.2)\n",
      "Requirement already satisfied: joblib>=0.13.2 in c:\\users\\user\\appdata\\local\\programs\\python\\python310\\lib\\site-packages (from mlxtend) (1.1.0)\n",
      "Requirement already satisfied: scikit-learn>=1.0.2 in c:\\users\\user\\appdata\\local\\programs\\python\\python310\\lib\\site-packages (from mlxtend) (1.1.1)\n",
      "Requirement already satisfied: numpy>=1.16.2 in c:\\users\\user\\appdata\\local\\programs\\python\\python310\\lib\\site-packages (from mlxtend) (1.22.4)\n",
      "Requirement already satisfied: scipy>=1.2.1 in c:\\users\\user\\appdata\\local\\programs\\python\\python310\\lib\\site-packages (from mlxtend) (1.8.1)\n",
      "Requirement already satisfied: cycler>=0.10 in c:\\users\\user\\appdata\\local\\programs\\python\\python310\\lib\\site-packages (from matplotlib>=3.0.0->mlxtend) (0.11.0)\n",
      "Requirement already satisfied: fonttools>=4.22.0 in c:\\users\\user\\appdata\\local\\programs\\python\\python310\\lib\\site-packages (from matplotlib>=3.0.0->mlxtend) (4.33.3)\n",
      "Requirement already satisfied: kiwisolver>=1.0.1 in c:\\users\\user\\appdata\\local\\programs\\python\\python310\\lib\\site-packages (from matplotlib>=3.0.0->mlxtend) (1.4.2)\n",
      "Requirement already satisfied: pillow>=6.2.0 in c:\\users\\user\\appdata\\local\\programs\\python\\python310\\lib\\site-packages (from matplotlib>=3.0.0->mlxtend) (8.4.0)\n",
      "Requirement already satisfied: python-dateutil>=2.7 in c:\\users\\user\\appdata\\local\\programs\\python\\python310\\lib\\site-packages (from matplotlib>=3.0.0->mlxtend) (2.8.2)\n",
      "Requirement already satisfied: pyparsing>=2.2.1 in c:\\users\\user\\appdata\\local\\programs\\python\\python310\\lib\\site-packages (from matplotlib>=3.0.0->mlxtend) (3.0.9)\n",
      "Requirement already satisfied: packaging>=20.0 in c:\\users\\user\\appdata\\local\\programs\\python\\python310\\lib\\site-packages (from matplotlib>=3.0.0->mlxtend) (21.3)\n",
      "Requirement already satisfied: pytz>=2020.1 in c:\\users\\user\\appdata\\local\\programs\\python\\python310\\lib\\site-packages (from pandas>=0.24.2->mlxtend) (2022.2.1)\n",
      "Requirement already satisfied: threadpoolctl>=2.0.0 in c:\\users\\user\\appdata\\local\\programs\\python\\python310\\lib\\site-packages (from scikit-learn>=1.0.2->mlxtend) (3.1.0)\n",
      "Requirement already satisfied: six>=1.5 in c:\\users\\user\\appdata\\local\\programs\\python\\python310\\lib\\site-packages (from python-dateutil>=2.7->matplotlib>=3.0.0->mlxtend) (1.16.0)\n",
      "Note: you may need to restart the kernel to use updated packages.\n"
     ]
    },
    {
     "name": "stderr",
     "output_type": "stream",
     "text": [
      "WARNING: There was an error checking the latest version of pip.\n"
     ]
    }
   ],
   "source": [
    "%pip install pandas\n",
    "%pip install numpy\n",
    "%pip install matplotlib\n",
    "%pip install seaborn\n",
    "%pip install git+https://github.com/hengzhe-zhang/EvolutionaryForest.git\n",
    "%pip install gplearn\n",
    "%pip install scipy\n",
    "%pip install hdfe\n",
    "%pip install deap==1.3.3\n",
    "%pip install sympy\n",
    "%pip install scikit_learn\n",
    "%pip install dill\n",
    "%pip install lightgbm\n",
    "%pip install skorch\n",
    "%pip install umap-learn\n",
    "%pip install category_encoders\n",
    "%pip install pyade\n",
    "%pip install networkx\n",
    "%pip install torch\n",
    "%pip install tpot\n",
    "%pip install linear-tree\n",
    "%pip install sklearn2pmml\n",
    "%pip install shap\n",
    "%pip install mlxtend"
   ]
  },
  {
   "cell_type": "markdown",
   "metadata": {},
   "source": [
    "#### Import Libraries"
   ]
  },
  {
   "cell_type": "code",
   "execution_count": 2,
   "metadata": {},
   "outputs": [
    {
     "name": "stderr",
     "output_type": "stream",
     "text": [
      "Failed to initialize NumPy: module compiled against API version 0x10 but this version of numpy is 0xf . Check the section C-API incompatibility at the Troubleshooting ImportError section at https://numpy.org/devdocs/user/troubleshooting-importerror.html#c-api-incompatibility for indications on how to solve this problem . (Triggered internally at ..\\torch\\csrc\\utils\\tensor_numpy.cpp:84.)\n"
     ]
    }
   ],
   "source": [
    "import pandas as pd\n",
    "from evolutionary_forest.forest import EvolutionaryForestRegressor\n",
    "import sklearn.model_selection as ms\n",
    "from sklearn.metrics import accuracy_score, r2_score\n",
    "from sklearn.ensemble import RandomForestRegressor"
   ]
  },
  {
   "cell_type": "markdown",
   "metadata": {},
   "source": [
    "### Import Dataset"
   ]
  },
  {
   "cell_type": "markdown",
   "metadata": {},
   "source": [
    "#### Load the Dataset"
   ]
  },
  {
   "cell_type": "code",
   "execution_count": 3,
   "metadata": {},
   "outputs": [],
   "source": [
    "data = pd.read_csv('./AirQualityUCI.csv', sep=';')"
   ]
  },
  {
   "cell_type": "markdown",
   "metadata": {},
   "source": [
    "#### Dataset Description"
   ]
  },
  {
   "cell_type": "code",
   "execution_count": 4,
   "metadata": {},
   "outputs": [
    {
     "name": "stdout",
     "output_type": "stream",
     "text": [
      "<class 'pandas.core.frame.DataFrame'>\n",
      "RangeIndex: 9471 entries, 0 to 9470\n",
      "Data columns (total 17 columns):\n",
      " #   Column         Non-Null Count  Dtype  \n",
      "---  ------         --------------  -----  \n",
      " 0   Date           9357 non-null   object \n",
      " 1   Time           9357 non-null   object \n",
      " 2   CO(GT)         9357 non-null   object \n",
      " 3   PT08.S1(CO)    9357 non-null   float64\n",
      " 4   NMHC(GT)       9357 non-null   float64\n",
      " 5   C6H6(GT)       9357 non-null   object \n",
      " 6   PT08.S2(NMHC)  9357 non-null   float64\n",
      " 7   NOx(GT)        9357 non-null   float64\n",
      " 8   PT08.S3(NOx)   9357 non-null   float64\n",
      " 9   NO2(GT)        9357 non-null   float64\n",
      " 10  PT08.S4(NO2)   9357 non-null   float64\n",
      " 11  PT08.S5(O3)    9357 non-null   float64\n",
      " 12  T              9357 non-null   object \n",
      " 13  RH             9357 non-null   object \n",
      " 14  AH             9357 non-null   object \n",
      " 15  Unnamed: 15    0 non-null      float64\n",
      " 16  Unnamed: 16    0 non-null      float64\n",
      "dtypes: float64(10), object(7)\n",
      "memory usage: 1.2+ MB\n"
     ]
    }
   ],
   "source": [
    "data.head()\n",
    "data.info()"
   ]
  },
  {
   "cell_type": "markdown",
   "metadata": {},
   "source": [
    "### Preprocessing"
   ]
  },
  {
   "cell_type": "code",
   "execution_count": 5,
   "metadata": {},
   "outputs": [
    {
     "name": "stdout",
     "output_type": "stream",
     "text": [
      "      CO(GT)  PT08.S1(CO)  NMHC(GT)  C6H6(GT)  PT08.S2(NMHC)  NOx(GT)  \\\n",
      "0        2.6       1360.0     150.0      11.9         1046.0    166.0   \n",
      "1        2.0       1292.0     112.0       9.4          955.0    103.0   \n",
      "2        2.2       1402.0      88.0       9.0          939.0    131.0   \n",
      "3        2.2       1376.0      80.0       9.2          948.0    172.0   \n",
      "4        1.6       1272.0      51.0       6.5          836.0    131.0   \n",
      "...      ...          ...       ...       ...            ...      ...   \n",
      "9352     3.1       1314.0    -200.0      13.5         1101.0    472.0   \n",
      "9353     2.4       1163.0    -200.0      11.4         1027.0    353.0   \n",
      "9354     2.4       1142.0    -200.0      12.4         1063.0    293.0   \n",
      "9355     2.1       1003.0    -200.0       9.5          961.0    235.0   \n",
      "9356     2.2       1071.0    -200.0      11.9         1047.0    265.0   \n",
      "\n",
      "      PT08.S3(NOx)  NO2(GT)  PT08.S4(NO2)  PT08.S5(O3)     T    RH      AH  \n",
      "0           1056.0    113.0        1692.0       1268.0  13.6  48.9  0.7578  \n",
      "1           1174.0     92.0        1559.0        972.0  13.3  47.7  0.7255  \n",
      "2           1140.0    114.0        1555.0       1074.0  11.9  54.0  0.7502  \n",
      "3           1092.0    122.0        1584.0       1203.0  11.0  60.0  0.7867  \n",
      "4           1205.0    116.0        1490.0       1110.0  11.2  59.6  0.7888  \n",
      "...            ...      ...           ...          ...   ...   ...     ...  \n",
      "9352         539.0    190.0        1374.0       1729.0  21.9  29.3  0.7568  \n",
      "9353         604.0    179.0        1264.0       1269.0  24.3  23.7  0.7119  \n",
      "9354         603.0    175.0        1241.0       1092.0  26.9  18.3  0.6406  \n",
      "9355         702.0    156.0        1041.0        770.0  28.3  13.5  0.5139  \n",
      "9356         654.0    168.0        1129.0        816.0  28.5  13.1  0.5028  \n",
      "\n",
      "[9357 rows x 13 columns]\n"
     ]
    }
   ],
   "source": [
    "import pandas as pd\n",
    "\n",
    "def replace_comma_with_period(value):\n",
    "    if isinstance(value, str):\n",
    "        return float(value.replace(',', '.'))\n",
    "    else:\n",
    "        return value\n",
    "\n",
    "# Read the data from the CSV file\n",
    "data = pd.read_csv('./AirQualityUCI.csv', sep=';')\n",
    "\n",
    "# Drop unnecessary columns\n",
    "data.drop(['Date', 'Time', 'Unnamed: 15', 'Unnamed: 16'], axis=1, inplace=True)\n",
    "\n",
    "# Apply the function to each element in the DataFrame\n",
    "data = data.applymap(replace_comma_with_period)\n",
    "\n",
    "# Check for NaN values and drop corresponding rows\n",
    "data = data.dropna()\n",
    "\n",
    "# Print the processed data\n",
    "print(data)\n"
   ]
  },
  {
   "cell_type": "markdown",
   "metadata": {},
   "source": [
    "### Split the Dataset to Train and Test\n",
    "Target feature column \"T\" which is the temperature from Date;Time;CO(GT);PT08.S1(CO);NMHC(GT);C6H6(GT);PT08.S2(NMHC);NOx(GT);PT08.S3(NOx);NO2(GT);PT08.S4(NO2);PT08.S5(O3);T;RH;AH;; in the dataset"
   ]
  },
  {
   "cell_type": "code",
   "execution_count": 6,
   "metadata": {},
   "outputs": [],
   "source": [
    "x = data.drop(['T'], axis=1)\n",
    "y = data['T']\n",
    "\n",
    "x_train, x_test, y_train, y_test = ms.train_test_split(x, y, test_size=0.2, random_state=42)"
   ]
  },
  {
   "cell_type": "markdown",
   "metadata": {},
   "source": [
    "### Train the model with random forest"
   ]
  },
  {
   "cell_type": "code",
   "execution_count": 7,
   "metadata": {},
   "outputs": [
    {
     "name": "stdout",
     "output_type": "stream",
     "text": [
      "0.9999734818663446\n"
     ]
    }
   ],
   "source": [
    "rf_model = RandomForestRegressor(n_estimators=100, random_state=42)\n",
    "rf_model.fit(x_train, y_train)\n",
    "\n",
    "y_pred = rf_model.predict(x_test)\n",
    "\n",
    "# R2\n",
    "print(r2_score(y_test, y_pred))"
   ]
  },
  {
   "cell_type": "markdown",
   "metadata": {},
   "source": [
    "### Train the model with evolutionary forest"
   ]
  },
  {
   "cell_type": "code",
   "execution_count": 8,
   "metadata": {},
   "outputs": [
    {
     "name": "stdout",
     "output_type": "stream",
     "text": [
      "data shape (7485, 12) (7485,)\n",
      "   \t      \t                                                          fitness                                                          \t                                  size                                  \n",
      "   \t      \t---------------------------------------------------------------------------------------------------------------------------\t------------------------------------------------------------------------\n",
      "gen\tnevals\t25%         \t75%         \tavg        \tgen\tmax         \tmedian      \tmin        \tnevals\tstd        \t25%\t75%\tavg  \tgen\tmax\tmedian\tmin\tnevals\tstd     \n",
      "0  \t200   \t[0.98428388]\t[0.99295341]\t[0.9887368]\t0  \t[0.99968164]\t[0.98924832]\t[0.9742212]\t200   \t[0.0058378]\t3  \t4  \t3.825\t0  \t6  \t4     \t3  \t200   \t0.635905\n",
      "defaultdict(<class 'int'>, {'1': 200})\n",
      "P value of different population 3.878714475901378e-11\n",
      "Mul(PT08.S2(NMHC), PT08.S4(NO2))\n",
      "AQ(0, PT08.S4(NO2))\n",
      "Mul(AQ(NO2(GT), NO2(GT)), AH)\n",
      "Add(Sub(1, PT08.S4(NO2)), AQ(1, CO(GT)))\n",
      "AQ(AH, AH)\n",
      "Mul(RH, AH)\n",
      "Add(C6H6(GT), NOx(GT))\n",
      "Sub(CO(GT), C6H6(GT))\n",
      "Mul(PT08.S1(CO), NO2(GT))\n",
      "Add(NMHC(GT), NOx(GT))\n",
      "Unique Hash [64, 69, 63, 69, 66, 65, 67, 62, 68, 67]\n",
      "number of features 584\n",
      "archive size 100\n",
      "Average Number of Active Genes 0.4695\n",
      "1  \t200   \t[0.99304841]\t[0.99964498]\t[0.99581191]\t1  \t[0.99976297]\t[0.99839797]\t[0.9773897]\t200   \t[0.00524886]\t3  \t4  \t3.645\t1  \t5  \t4     \t3  \t200   \t0.582216\n",
      "defaultdict(<class 'int'>, {'1': 200})\n",
      "P value of different population 0.00021893128820730013\n",
      "Add(Add(PT08.S3(NOx), PT08.S5(O3)), Add(C6H6(GT), PT08.S2(NMHC)))\n",
      "Mul(Add(C6H6(GT), RH), AQ(PT08.S1(CO), NO2(GT)))\n",
      "AQ(PT08.S2(NMHC), PT08.S1(CO))\n",
      "Sub(Add(PT08.S2(NMHC), AH), Sub(PT08.S1(CO), NO2(GT)))\n",
      "Mul(-1, AH)\n",
      "Mul(RH, -1)\n",
      "Add(CO(GT), NO2(GT))\n",
      "AQ(RH, C6H6(GT))\n",
      "Mul(Sub(RH, PT08.S3(NOx)), Sub(NO2(GT), CO(GT)))\n",
      "Add(0, CO(GT))\n",
      "Unique Hash [52, 48, 46, 44, 38, 37, 43, 41, 48, 39]\n",
      "number of features 410\n",
      "archive size 100\n",
      "Average Number of Active Genes 0.487\n",
      "2  \t200   \t[0.99880495]\t[0.99969018]\t[0.9976184] \t2  \t[0.9997978] \t[0.99960101]\t[0.98106918]\t200   \t[0.00441686]\t3  \t4  \t3.44 \t2  \t5  \t3     \t2  \t200   \t0.571314\n",
      "defaultdict(<class 'int'>, {'1': 200})\n",
      "P value of different population 0.02760325080301779\n",
      "Add(Add(PT08.S3(NOx), PT08.S5(O3)), Add(C6H6(GT), PT08.S2(NMHC)))\n",
      "Mul(Add(C6H6(GT), RH), AQ(PT08.S1(CO), NO2(GT)))\n",
      "AQ(PT08.S2(NMHC), PT08.S1(CO))\n",
      "Sub(Add(PT08.S2(NMHC), AH), Sub(PT08.S1(CO), NO2(GT)))\n",
      "Mul(-1, AH)\n",
      "Mul(RH, -1)\n",
      "Add(CO(GT), NO2(GT))\n",
      "AQ(RH, C6H6(GT))\n",
      "Mul(Sub(RH, PT08.S3(NOx)), Sub(NO2(GT), CO(GT)))\n",
      "Add(0, CO(GT))\n",
      "Unique Hash [45, 45, 44, 45, 25, 33, 33, 34, 44, 45]\n",
      "number of features 364\n",
      "archive size 100\n",
      "Average Number of Active Genes 0.49\n",
      "3  \t200   \t[0.99952532]\t[0.99971437]\t[0.99825956]\t3  \t[0.9997894] \t[0.99965546]\t[0.97832281]\t200   \t[0.00366758]\t3  \t4  \t3.375\t3  \t5  \t3     \t3  \t200   \t0.523808\n",
      "defaultdict(<class 'int'>, {'1': 200})\n",
      "P value of different population 0.005444735082163364\n",
      "Sub(PT08.S2(NMHC), NMHC(GT))\n",
      "Sub(PT08.S4(NO2), PT08.S5(O3))\n",
      "Mul(1, AH)\n",
      "Sub(NMHC(GT), AH)\n",
      "AQ(PT08.S1(CO), PT08.S1(CO))\n",
      "AQ(NO2(GT), PT08.S4(NO2))\n",
      "Mul(CO(GT), Add(-1, PT08.S5(O3)))\n",
      "Add(-1, RH)\n",
      "Sub(1, RH)\n",
      "Sub(NOx(GT), RH)\n",
      "Unique Hash [48, 52, 48, 48, 21, 39, 34, 37, 46, 44]\n",
      "number of features 387\n",
      "archive size 100\n",
      "Average Number of Active Genes 0.4955\n",
      "4  \t200   \t[0.99950381]\t[0.9997216] \t[0.99825403]\t4  \t[0.99984966]\t[0.99963966]\t[0.98077338]\t200   \t[0.00362801]\t3  \t4  \t3.335\t4  \t5  \t3     \t3  \t200   \t0.492722\n",
      "defaultdict(<class 'int'>, {'1': 200})\n",
      "P value of different population 0.0010855630297854832\n",
      "Sub(PT08.S2(NMHC), PT08.S2(NMHC))\n",
      "Sub(PT08.S4(NO2), PT08.S5(O3))\n",
      "Mul(1, AH)\n",
      "Sub(NMHC(GT), PT08.S3(NOx))\n",
      "AQ(PT08.S1(CO), PT08.S1(CO))\n",
      "AQ(AH, RH)\n",
      "Mul(CO(GT), Add(-1, PT08.S5(O3)))\n",
      "Add(-1, RH)\n",
      "Sub(1, RH)\n",
      "Sub(NOx(GT), RH)\n",
      "Unique Hash [49, 57, 40, 57, 24, 32, 33, 43, 48, 43]\n",
      "number of features 397\n",
      "archive size 100\n",
      "Average Number of Active Genes 0.5075\n",
      "5  \t200   \t[0.9992166] \t[0.99971836]\t[0.99812341]\t5  \t[0.99986268]\t[0.99965255]\t[0.97983005]\t200   \t[0.00394272]\t3  \t4  \t3.315\t5  \t5  \t3     \t3  \t200   \t0.495757\n",
      "defaultdict(<class 'int'>, {'1': 200})\n",
      "P value of different population 0.00032737562557942835\n",
      "Sub(PT08.S2(NMHC), PT08.S2(NMHC))\n",
      "Sub(PT08.S4(NO2), PT08.S5(O3))\n",
      "Mul(1, AH)\n",
      "Sub(NMHC(GT), PT08.S3(NOx))\n",
      "AQ(PT08.S1(CO), PT08.S1(CO))\n",
      "AQ(AH, RH)\n",
      "Mul(CO(GT), Add(-1, PT08.S5(O3)))\n",
      "Add(-1, RH)\n",
      "Sub(1, RH)\n",
      "Sub(NOx(GT), RH)\n",
      "Unique Hash [47, 56, 44, 62, 30, 31, 45, 44, 45, 41]\n",
      "number of features 419\n",
      "archive size 100\n",
      "Average Number of Active Genes 0.522\n",
      "6  \t200   \t[0.99953628]\t[0.99975665]\t[0.99835301]\t6  \t[0.99985325]\t[0.99969194]\t[0.97814675]\t200   \t[0.00363065]\t3  \t4  \t3.305\t6  \t4  \t3     \t3  \t200   \t0.460407\n",
      "defaultdict(<class 'int'>, {'1': 200})\n",
      "P value of different population 0.0006373466312952018\n",
      "Sub(PT08.S2(NMHC), PT08.S2(NMHC))\n",
      "Sub(PT08.S4(NO2), PT08.S5(O3))\n",
      "Mul(1, AH)\n",
      "Sub(NMHC(GT), PT08.S3(NOx))\n",
      "AQ(PT08.S1(CO), PT08.S1(CO))\n",
      "AQ(AH, RH)\n",
      "Mul(CO(GT), Add(-1, PT08.S5(O3)))\n",
      "Add(-1, RH)\n",
      "Sub(1, RH)\n",
      "Sub(NOx(GT), RH)\n",
      "Unique Hash [49, 57, 39, 54, 27, 29, 47, 46, 45, 36]\n",
      "number of features 406\n",
      "archive size 100\n",
      "Average Number of Active Genes 0.5015\n",
      "7  \t200   \t[0.99959343]\t[0.99977164]\t[0.99863244]\t7  \t[0.99985835]\t[0.99970408]\t[0.97752209]\t200   \t[0.00338995]\t3  \t3  \t3.225\t7  \t4  \t3     \t3  \t200   \t0.417582\n",
      "defaultdict(<class 'int'>, {'1': 200})\n",
      "P value of different population 0.564214705145786\n",
      "Mul(PT08.S2(NMHC), PT08.S4(NO2))\n",
      "AQ(-1, RH)\n",
      "Mul(AH, AH)\n",
      "Add(Sub(1, PT08.S4(NO2)), AQ(1, CO(GT)))\n",
      "AQ(AH, AH)\n",
      "Mul(RH, AH)\n",
      "Add(NOx(GT), PT08.S4(NO2))\n",
      "Sub(CO(GT), PT08.S2(NMHC))\n",
      "Mul(PT08.S2(NMHC), NO2(GT))\n",
      "Add(NMHC(GT), PT08.S2(NMHC))\n",
      "Unique Hash [53, 57, 39, 49, 30, 31, 53, 48, 35, 42]\n",
      "number of features 410\n",
      "archive size 100\n",
      "Average Number of Active Genes 0.446\n",
      "8  \t200   \t[0.99961556]\t[0.99978471]\t[0.99884795]\t8  \t[0.9998751] \t[0.99972211]\t[0.97826427]\t200   \t[0.00330726]\t3  \t3  \t3.2  \t8  \t4  \t3     \t3  \t200   \t0.4     \n",
      "defaultdict(<class 'int'>, {'1': 200})\n",
      "P value of different population 1.3057305617737212e-07\n",
      "Sub(AH, RH)\n",
      "Sub(RH, PT08.S5(O3))\n",
      "Mul(1, AH)\n",
      "Sub(NMHC(GT), PT08.S3(NOx))\n",
      "AQ(PT08.S1(CO), PT08.S3(NOx))\n",
      "AQ(AH, RH)\n",
      "Mul(CO(GT), Add(-1, PT08.S5(O3)))\n",
      "Add(-1, RH)\n",
      "Sub(1, RH)\n",
      "Sub(AH, RH)\n",
      "Unique Hash [48, 51, 37, 46, 41, 29, 58, 42, 38, 43]\n",
      "number of features 393\n",
      "archive size 100\n",
      "Average Number of Active Genes 0.408\n",
      "9  \t200   \t[0.99957115]\t[0.99980677]\t[0.99891519]\t9  \t[0.99987837]\t[0.99975254]\t[0.97358862]\t200   \t[0.00305382]\t3  \t3  \t3.135\t9  \t4  \t3     \t3  \t200   \t0.341724\n",
      "defaultdict(<class 'int'>, {'1': 200})\n",
      "P value of different population 0.9175733096128048\n",
      "Sub(AH, RH)\n",
      "Sub(RH, PT08.S5(O3))\n",
      "Mul(1, AH)\n",
      "Sub(NMHC(GT), PT08.S3(NOx))\n",
      "AQ(CO(GT), NMHC(GT))\n",
      "AQ(AH, AH)\n",
      "Mul(CO(GT), Add(-1, PT08.S5(O3)))\n",
      "Add(-1, RH)\n",
      "Sub(1, RH)\n",
      "Sub(NOx(GT), RH)\n",
      "Unique Hash [49, 55, 38, 45, 39, 28, 54, 41, 34, 44]\n",
      "number of features 382\n",
      "archive size 100\n",
      "Average Number of Active Genes 0.404\n",
      "10 \t200   \t[0.99965439]\t[0.99982222]\t[0.99904494]\t10 \t[0.99988643]\t[0.99977907]\t[0.97971598]\t200   \t[0.00290549]\t3  \t3  \t3.14 \t10 \t4  \t3     \t3  \t200   \t0.346987\n",
      "defaultdict(<class 'int'>, {'1': 200})\n",
      "P value of different population 0.10388865931791373\n",
      "Sub(AH, RH)\n",
      "Sub(RH, PT08.S5(O3))\n",
      "Mul(1, AH)\n",
      "Sub(NMHC(GT), PT08.S3(NOx))\n",
      "AQ(CO(GT), NMHC(GT))\n",
      "AQ(AH, AH)\n",
      "Mul(CO(GT), Add(-1, PT08.S5(O3)))\n",
      "Add(-1, RH)\n",
      "Sub(1, RH)\n",
      "Sub(NOx(GT), RH)\n",
      "Unique Hash [54, 47, 32, 41, 41, 27, 49, 42, 32, 47]\n",
      "number of features 362\n",
      "archive size 100\n",
      "Average Number of Active Genes 0.374\n",
      "11 \t200   \t[0.99967991]\t[0.99982611]\t[0.99921079]\t11 \t[0.99987245]\t[0.99978652]\t[0.97604506]\t200   \t[0.00238649]\t3  \t3  \t3.105\t11 \t4  \t3     \t2  \t200   \t0.337602\n",
      "defaultdict(<class 'int'>, {'1': 200})\n",
      "P value of different population 0.02558535265900965\n",
      "Sub(AH, RH)\n",
      "Sub(1, PT08.S5(O3))\n",
      "Mul(1, AH)\n",
      "Sub(NMHC(GT), PT08.S3(NOx))\n",
      "AQ(PT08.S1(CO), PT08.S1(CO))\n",
      "AQ(AH, RH)\n",
      "Mul(CO(GT), Add(RH, PT08.S5(O3)))\n",
      "Add(-1, 1)\n",
      "Sub(1, RH)\n",
      "Sub(-1, AH)\n",
      "Unique Hash [53, 48, 19, 33, 45, 31, 57, 35, 36, 43]\n",
      "number of features 348\n",
      "archive size 100\n",
      "Average Number of Active Genes 0.354\n",
      "12 \t200   \t[0.99970983]\t[0.9998397] \t[0.99894572]\t12 \t[0.99989933]\t[0.99979796]\t[0.97995618]\t200   \t[0.00311322]\t3  \t3  \t3.05 \t12 \t4  \t3     \t2  \t200   \t0.295804\n",
      "defaultdict(<class 'int'>, {'1': 200})\n",
      "P value of different population 0.0109930026457564\n",
      "Sub(AH, RH)\n",
      "Sub(1, PT08.S5(O3))\n",
      "Mul(1, AH)\n",
      "Sub(NMHC(GT), PT08.S3(NOx))\n",
      "AQ(PT08.S1(CO), PT08.S1(CO))\n",
      "AQ(AH, RH)\n",
      "Mul(CO(GT), Add(RH, PT08.S5(O3)))\n",
      "Add(-1, 1)\n",
      "Sub(1, RH)\n",
      "Sub(-1, AH)\n",
      "Unique Hash [53, 42, 27, 36, 43, 25, 56, 31, 31, 35]\n",
      "number of features 333\n",
      "archive size 100\n",
      "Average Number of Active Genes 0.333\n",
      "13 \t200   \t[0.99966397]\t[0.99984037]\t[0.99917016]\t13 \t[0.9998905] \t[0.99980738]\t[0.98555194]\t200   \t[0.00238425]\t3  \t3  \t3.025\t13 \t4  \t3     \t2  \t200   \t0.210654\n",
      "defaultdict(<class 'int'>, {'1': 200})\n",
      "P value of different population 0.10388865931791373\n",
      "Sub(AH, RH)\n",
      "Sub(RH, RH)\n",
      "Mul(1, AH)\n",
      "Sub(RH, PT08.S3(NOx))\n",
      "AQ(PT08.S1(CO), PT08.S3(NOx))\n",
      "AQ(AH, RH)\n",
      "Mul(1, NMHC(GT))\n",
      "Add(-1, AH)\n",
      "Sub(1, RH)\n",
      "Sub(AH, RH)\n",
      "Unique Hash [56, 40, 21, 45, 47, 24, 57, 31, 27, 37]\n",
      "number of features 336\n",
      "archive size 100\n",
      "Average Number of Active Genes 0.33\n",
      "14 \t200   \t[0.99974456]\t[0.99985272]\t[0.99953001]\t14 \t[0.99990437]\t[0.99982101]\t[0.98621237]\t200   \t[0.00135629]\t3  \t3  \t3.05 \t14 \t4  \t3     \t2  \t200   \t0.278388\n",
      "defaultdict(<class 'int'>, {'1': 200})\n",
      "P value of different population 0.6151959787448548\n",
      "Sub(AH, RH)\n",
      "Sub(RH, RH)\n",
      "Mul(1, AH)\n",
      "Sub(RH, PT08.S3(NOx))\n",
      "AQ(PT08.S1(CO), PT08.S3(NOx))\n",
      "AQ(AH, RH)\n",
      "Mul(1, NMHC(GT))\n",
      "Add(-1, AH)\n",
      "Sub(1, RH)\n",
      "Sub(AH, RH)\n",
      "Unique Hash [54, 44, 22, 44, 44, 24, 65, 29, 28, 34]\n",
      "number of features 333\n",
      "archive size 100\n",
      "Average Number of Active Genes 0.321\n",
      "15 \t200   \t[0.99974861]\t[0.99984865]\t[0.9995261] \t15 \t[0.9999025] \t[0.99982124]\t[0.98404204]\t200   \t[0.00156736]\t3  \t3  \t3.035\t15 \t5  \t3     \t2  \t200   \t0.337305\n",
      "defaultdict(<class 'int'>, {'1': 200})\n",
      "P value of different population 0.32917742467820843\n",
      "Sub(AH, RH)\n",
      "Sub(RH, RH)\n",
      "Mul(1, AH)\n",
      "Sub(RH, PT08.S3(NOx))\n",
      "AQ(PT08.S1(CO), PT08.S3(NOx))\n",
      "AQ(AH, RH)\n",
      "Mul(1, NMHC(GT))\n",
      "Add(-1, AH)\n",
      "Sub(1, RH)\n",
      "Sub(AH, RH)\n",
      "Unique Hash [45, 45, 22, 39, 43, 26, 62, 37, 18, 37]\n",
      "number of features 327\n",
      "archive size 100\n",
      "Average Number of Active Genes 0.3105\n",
      "16 \t200   \t[0.9997408] \t[0.99985529]\t[0.99959327]\t16 \t[0.99989888]\t[0.99981918]\t[0.99388386]\t200   \t[0.00089443]\t3  \t3  \t3.04 \t16 \t5  \t3     \t2  \t200   \t0.313688\n",
      "defaultdict(<class 'int'>, {'1': 200})\n",
      "P value of different population 0.02192954756883534\n",
      "Sub(AH, RH)\n",
      "Sub(RH, RH)\n",
      "Mul(1, AH)\n",
      "Sub(RH, PT08.S3(NOx))\n",
      "AQ(PT08.S1(CO), PT08.S3(NOx))\n",
      "AQ(AH, RH)\n",
      "Mul(1, NMHC(GT))\n",
      "Add(-1, AH)\n",
      "Sub(1, RH)\n",
      "Sub(AH, RH)\n",
      "Unique Hash [48, 46, 22, 46, 45, 21, 63, 39, 22, 42]\n",
      "number of features 338\n",
      "archive size 100\n",
      "Average Number of Active Genes 0.309\n",
      "17 \t200   \t[0.99976891]\t[0.99985677]\t[0.99946373]\t17 \t[0.99989777]\t[0.9998218] \t[0.98208034]\t200   \t[0.00188487]\t3  \t3  \t3.035\t17 \t5  \t3     \t2  \t200   \t0.337305\n",
      "defaultdict(<class 'int'>, {'1': 200})\n",
      "P value of different population 0.008874707243582238\n",
      "Sub(AH, RH)\n",
      "Sub(RH, RH)\n",
      "Mul(1, AH)\n",
      "Sub(RH, PT08.S3(NOx))\n",
      "AQ(PT08.S1(CO), AH)\n",
      "AQ(AH, RH)\n",
      "Mul(1, RH)\n",
      "Add(-1, AH)\n",
      "Sub(1, RH)\n",
      "Sub(AH, 1)\n",
      "Unique Hash [48, 42, 23, 39, 50, 24, 59, 41, 26, 36]\n",
      "number of features 334\n",
      "archive size 100\n",
      "Average Number of Active Genes 0.303\n",
      "18 \t200   \t[0.99978215]\t[0.99986424]\t[0.99941875]\t18 \t[0.99990712]\t[0.99983248]\t[0.98051853]\t200   \t[0.00232136]\t3  \t3  \t3.015\t18 \t5  \t3     \t2  \t200   \t0.393415\n",
      "defaultdict(<class 'int'>, {'1': 200})\n",
      "P value of different population 0.8360239504893114\n",
      "Sub(AH, -1)\n",
      "Sub(RH, PT08.S5(O3))\n",
      "Mul(1, AH)\n",
      "Sub(1, AH)\n",
      "AQ(RH, 1)\n",
      "AQ(RH, RH)\n",
      "Mul(RH, RH)\n",
      "Add(-1, RH)\n",
      "Sub(1, RH)\n",
      "-1\n",
      "Unique Hash [55, 42, 24, 46, 44, 30, 51, 46, 32, 45]\n",
      "number of features 351\n",
      "archive size 100\n",
      "Average Number of Active Genes 0.3045\n",
      "19 \t200   \t[0.9997865] \t[0.99986352]\t[0.99953402]\t19 \t[0.9999077] \t[0.99983865]\t[0.98104639]\t200   \t[0.00190634]\t3  \t3  \t2.97 \t19 \t5  \t3     \t2  \t200   \t0.330303\n",
      "defaultdict(<class 'int'>, {'1': 200})\n",
      "P value of different population 0.018005351025415707\n",
      "Sub(AH, -1)\n",
      "Sub(RH, RH)\n",
      "Mul(1, RH)\n",
      "Sub(RH, PT08.S3(NOx))\n",
      "AQ(PT08.S1(CO), RH)\n",
      "AQ(AH, RH)\n",
      "Mul(1, RH)\n",
      "Add(-1, AH)\n",
      "Sub(1, RH)\n",
      "Sub(AH, 1)\n",
      "Unique Hash [53, 41, 24, 48, 57, 29, 56, 47, 32, 37]\n",
      "number of features 347\n",
      "archive size 100\n",
      "Average Number of Active Genes 0.3015\n",
      "20 \t200   \t[0.99978511]\t[0.99987169]\t[0.9993337] \t20 \t[0.99990887]\t[0.99984111]\t[0.97938421]\t200   \t[0.00263566]\t3  \t3  \t2.955\t20 \t5  \t3     \t2  \t200   \t0.336118\n",
      "defaultdict(<class 'int'>, {'1': 200})\n",
      "Final Ensemble Size 100\n",
      "0.9999947707780635\n"
     ]
    }
   ],
   "source": [
    "ef_model = EvolutionaryForestRegressor(max_height=5, normalize=True, select='AutomaticLexicase',gene_num=10, boost_size=100, n_gen=20, n_pop=200, cross_pb=1,base_learner='Random-DT', verbose=True, n_process=1)\n",
    "ef_model.fit(x_train, y_train)\n",
    "\n",
    "y_pred = ef_model.predict(x_test)\n",
    "\n",
    "# R2\n",
    "print(r2_score(y_test, y_pred))"
   ]
  }
 ],
 "metadata": {
  "kernelspec": {
   "display_name": "Python 3",
   "language": "python",
   "name": "python3"
  },
  "language_info": {
   "codemirror_mode": {
    "name": "ipython",
    "version": 3
   },
   "file_extension": ".py",
   "mimetype": "text/x-python",
   "name": "python",
   "nbconvert_exporter": "python",
   "pygments_lexer": "ipython3",
   "version": "3.10.1"
  }
 },
 "nbformat": 4,
 "nbformat_minor": 2
}
